{
 "cells": [
  {
   "cell_type": "code",
   "execution_count": 2,
   "id": "12fb11b8-e620-4199-a5ce-71ed579f4480",
   "metadata": {},
   "outputs": [
    {
     "name": "stdout",
     "output_type": "stream",
     "text": [
      "WARNING: When the --extra-index-url option is used, the installation package is downloaded from an unverified URL. Exercise caution when using this option.\n",
      "Looking in indexes: http://repo.myhuaweicloud.com/repository/pypi/simple\n",
      "Collecting download\n",
      "  Downloading http://repo.myhuaweicloud.com/repository/pypi/packages/37/45/01e7455a9659528e77a414b222326d4c525796e4f571bbabcb2e0ff3d1f4/download-0.3.5-py3-none-any.whl (8.8 kB)\n",
      "Requirement already satisfied: requests in /home/ma-user/anaconda3/envs/MindSpore/lib/python3.7/site-packages (from download) (2.27.1)\n",
      "Requirement already satisfied: six in /usr/lib/python3.7/site-packages (from download) (1.15.0)\n",
      "Requirement already satisfied: tqdm in /home/ma-user/anaconda3/envs/MindSpore/lib/python3.7/site-packages (from download) (4.66.1)\n",
      "Requirement already satisfied: charset-normalizer~=2.0.0; python_version >= \"3\" in /home/ma-user/anaconda3/envs/MindSpore/lib/python3.7/site-packages (from requests->download) (2.0.12)\n",
      "Requirement already satisfied: idna<4,>=2.5; python_version >= \"3\" in /home/ma-user/anaconda3/envs/MindSpore/lib/python3.7/site-packages (from requests->download) (2.10)\n",
      "Requirement already satisfied: urllib3<1.27,>=1.21.1 in /home/ma-user/anaconda3/envs/MindSpore/lib/python3.7/site-packages (from requests->download) (1.26.7)\n",
      "Requirement already satisfied: certifi>=2017.4.17 in /home/ma-user/anaconda3/envs/MindSpore/lib/python3.7/site-packages (from requests->download) (2023.7.22)\n",
      "Installing collected packages: download\n",
      "Successfully installed download-0.3.5\n",
      "Note: you may need to restart the kernel to use updated packages.\n"
     ]
    }
   ],
   "source": [
    "pip install download"
   ]
  },
  {
   "cell_type": "code",
   "execution_count": 3,
   "id": "37bd3cfd-2717-4f4a-93e2-91b5897bab5c",
   "metadata": {},
   "outputs": [
    {
     "name": "stdout",
     "output_type": "stream",
     "text": [
      "env: no_proxy='a.test.com,127.0.0.1,2.2.2.2'\n"
     ]
    }
   ],
   "source": [
    "%env no_proxy='a.test.com,127.0.0.1,2.2.2.2'"
   ]
  },
  {
   "cell_type": "code",
   "execution_count": 4,
   "id": "5783a53d-1908-4452-87f3-4dff99bb35eb",
   "metadata": {},
   "outputs": [
    {
     "name": "stdout",
     "output_type": "stream",
     "text": [
      "Downloading data from https://mindspore-website.obs.cn-north-4.myhuaweicloud.com/notebook/datasets/MNIST_Data.zip (10.3 MB)\n",
      "\n",
      "file_sizes: 100%|██████████████████████████| 10.8M/10.8M [00:00<00:00, 92.8MB/s]\n",
      "Extracting zip file...\n",
      "Successfully downloaded / unzipped to ./\n"
     ]
    }
   ],
   "source": [
    "from download import download\n",
    "\n",
    "# 下载MNIST数据集\n",
    "url = \"https://mindspore-website.obs.cn-north-4.myhuaweicloud.com/\" \\\n",
    "      \"notebook/datasets/MNIST_Data.zip\"\n",
    "path = download(url, \"./\", kind=\"zip\", replace=True)"
   ]
  },
  {
   "cell_type": "code",
   "execution_count": 5,
   "id": "1d65a1d3-e167-4650-85cd-9373e7750f77",
   "metadata": {},
   "outputs": [],
   "source": [
    "import numpy as np\n",
    "import matplotlib.pyplot as plt\n",
    "import mindspore as ms\n",
    "from mindspore import nn\n",
    "from mindspore.dataset import vision,transforms,MnistDataset\n",
    "from mindspore.dataset.vision import Inter\n",
    "from mindspore.common.initializer import Normal\n",
    "from mindspore.train import Model\n",
    "\n",
    "#设定运行模式为图模式，运行硬件为昇腾芯片\n",
    "ms.set_context(mode=ms.GRAPH_MODE, device_target='Ascend') # Ascend, CPU, GPU"
   ]
  },
  {
   "cell_type": "code",
   "execution_count": 7,
   "id": "f3beecb0-6f4b-4948-9810-9ad41be77846",
   "metadata": {},
   "outputs": [],
   "source": [
    "# 定义预处理操作的流程，整体对数据集进行处理\n",
    "def datapipe(path, batch_size=32):\n",
    "    image_transform = [\n",
    "        vision.Resize(size=32, interpolation=Inter.LINEAR),    # Resize： 以双线性插值方式调整图像尺寸大小\n",
    "        vision.Rescale(1.0 / 255.0, 0.0),                      # Rescale: 缩放图像的像素值大小，将像素值统一除255，数据类型由unit8转为float32\n",
    "        vision.Normalize(mean=(0.1307,),std=(0.3081,)),       # Mormalize：将像素值归一化\n",
    "        vision.HWC2CHW(),                                     # HWC2CHW：将张量格式从（height,width,channel）转换成(channel,height,width)\n",
    "    ]\n",
    "    label_transform = transforms.TypeCast(ms.int32)\n",
    "    \n",
    "    # 利用MnistDataset接口读取解压后的MNIST的训练集和测试集，并进行shuffle操作\n",
    "    dataset = MnistDataset(path, shuffle=True)\n",
    "    # 通过map方法对每张图片应用数据处理操作\n",
    "    dataset = dataset.map(operations=image_transform, input_columns=[\"image\"])\n",
    "    # 将每个标签的数据类型转换为int32\n",
    "    dataset = dataset.map(operations=label_transform, input_columns=[\"label\"])\n",
    "    # 对数据集进行分批处理；当最后一个批处理数据包含的数据条目小于batch_size时，drop_remainder表示是否将该批处理丢弃，不传递给下一个操作。默认值：False，不丢弃。\n",
    "    dataset = dataset.batch(batch_size, drop_remainder=True)\n",
    "    return dataset\n",
    "\n",
    "dataset_train = datapipe(\"MNIST_Data/train\")\n",
    "dataset_eval = datapipe(\"MNIST_Data/test\")"
   ]
  },
  {
   "cell_type": "code",
   "execution_count": 8,
   "id": "5e292b14-1955-4cb3-a2ea-ee63c6b07c6a",
   "metadata": {},
   "outputs": [
    {
     "name": "stdout",
     "output_type": "stream",
     "text": [
      "Batch Size/通道数/图像长/宽： (32, 1, 32, 32)\n",
      "图像的标签样式： [2 7 8 1 2 2 6 4 0 0 0 3 9 9 7 1 1 4 3 8 1 3 7 7 9 3 9 1 1 7 9 3]\n"
     ]
    },
    {
     "data": {
      "image/png": "[encoded data removed]",
      "text/plain": [
       "<Figure size 640x480 with 1 Axes>"
      ]
     },
     "metadata": {},
     "output_type": "display_data"
    }
   ],
   "source": [
    "data_next = dataset_train.create_dict_iterator(output_numpy=True).__next__()\n",
    "print('Batch Size/通道数/图像长/宽：', data_next['image'].shape)\n",
    "print('图像的标签样式：', data_next['label'])\n",
    "\n",
    "plt.figure()\n",
    "plt.imshow(data_next['image'][1,...].squeeze(), cmap=\"gray\")\n",
    "plt.grid(False)\n",
    "plt.show()"
   ]
  },
  {
   "cell_type": "code",
   "execution_count": 9,
   "id": "0429e11b-9eea-43f7-8b27-dc6706f06b5a",
   "metadata": {},
   "outputs": [],
   "source": [
    "#定义模型结构，MindSpore中的模型时通过construct定义模型结构，在__init__中初始化各层的对象\n",
    "class LeNet5(nn.Cell):\n",
    "    \"\"\"LeNet5\"\"\"\n",
    "\n",
    "    def __init__(self, num_classes=10, num_channel=1):\n",
    "        super(LeNet5, self).__init__()\n",
    "        # 卷积层，输入的通道数为num_channel,输出的通道数为6,卷积核大小为5*5\n",
    "        self.conv1 = nn.Conv2d(num_channel, 6, 5, pad_mode='valid')\n",
    "        # 卷积层，输入的通道数为6，输出的通道数为16,卷积核大小为5*5\n",
    "        self.conv2 = nn.Conv2d(6, 16, 5, pad_mode='valid')\n",
    "        # ReLU激活函数\n",
    "        self.relu = nn.ReLU()\n",
    "        # 池化层\n",
    "        self.max_pool2d = nn.MaxPool2d(kernel_size=2, stride=2)\n",
    "        # 多维数组展平为一维数组\n",
    "        self.flatten = nn.Flatten()\n",
    "        # 全连接层，输入个数为16*5*5，输出个数为120\n",
    "        self.fc1 = nn.Dense(16 * 5 * 5, 120, weight_init=Normal(0.02))\n",
    "        # 全连接层，输入个数为120，输出个数为84\n",
    "        self.fc2 = nn.Dense(120, 84, weight_init=Normal(0.02))\n",
    "        # 全连接层，输入个数为84，分类的个数为num_class\n",
    "        self.fc3 = nn.Dense(84, num_classes, weight_init=Normal(0.02))\n",
    "\n",
    "    def construct(self, x):\n",
    "        # 使用定义好的运算构建前向网络\n",
    "        x = self.conv1(x)\n",
    "        x = self.relu(x)\n",
    "        x = self.max_pool2d(x)\n",
    "        x = self.conv2(x)\n",
    "        x = self.relu(x)\n",
    "        x = self.max_pool2d(x)\n",
    "        x = self.flatten(x)\n",
    "        x = self.relu(self.fc1(x))\n",
    "        x = self.relu(self.fc2(x))\n",
    "        x = self.fc3(x)\n",
    "        return x"
   ]
  },
  {
   "cell_type": "code",
   "execution_count": 10,
   "id": "a0af2669-c508-4514-a20d-48ac41acbaae",
   "metadata": {},
   "outputs": [
    {
     "name": "stdout",
     "output_type": "stream",
     "text": [
      "Epoch 1\n",
      "-------------------------------\n"
     ]
    },
    {
     "name": "stderr",
     "output_type": "stream",
     "text": [
      "[ERROR] CORE(1105,ffffa14f20b0,python):2024-01-30-16:45:42.463.999 [mindspore/core/utils/file_utils.cc:253] GetRealPath] Get realpath failed, path[/tmp/ipykernel_1105/1666263637.py]\n",
      "[ERROR] CORE(1105,ffffa14f20b0,python):2024-01-30-16:45:42.464.079 [mindspore/core/utils/file_utils.cc:253] GetRealPath] Get realpath failed, path[/tmp/ipykernel_1105/1666263637.py]\n",
      "[ERROR] CORE(1105,ffffa14f20b0,python):2024-01-30-16:45:42.464.113 [mindspore/core/utils/file_utils.cc:253] GetRealPath] Get realpath failed, path[/tmp/ipykernel_1105/1666263637.py]\n"
     ]
    },
    {
     "name": "stdout",
     "output_type": "stream",
     "text": [
      "loss: 2.310022  [  0/1875]\n",
      "loss: 2.274877  [100/1875]\n",
      "loss: 0.715073  [200/1875]\n",
      "loss: 0.420944  [300/1875]\n",
      "loss: 0.201703  [400/1875]\n",
      "loss: 0.155780  [500/1875]\n",
      "loss: 0.141726  [600/1875]\n",
      "loss: 0.142582  [700/1875]\n",
      "loss: 0.063522  [800/1875]\n",
      "loss: 0.054072  [900/1875]\n",
      "loss: 0.073684  [1000/1875]\n",
      "loss: 0.140230  [1100/1875]\n",
      "loss: 0.019690  [1200/1875]\n",
      "loss: 0.042235  [1300/1875]\n",
      "loss: 0.064062  [1400/1875]\n",
      "loss: 0.006513  [1500/1875]\n",
      "loss: 0.325441  [1600/1875]\n",
      "loss: 0.022978  [1700/1875]\n",
      "loss: 0.367078  [1800/1875]\n"
     ]
    },
    {
     "name": "stderr",
     "output_type": "stream",
     "text": [
      "[ERROR] CORE(1105,ffffa14f20b0,python):2024-01-30-16:46:50.463.417 [mindspore/core/utils/file_utils.cc:253] GetRealPath] Get realpath failed, path[/tmp/ipykernel_1105/3728934510.py]\n",
      "[ERROR] CORE(1105,ffffa14f20b0,python):2024-01-30-16:46:50.463.504 [mindspore/core/utils/file_utils.cc:253] GetRealPath] Get realpath failed, path[/tmp/ipykernel_1105/3728934510.py]\n"
     ]
    },
    {
     "name": "stdout",
     "output_type": "stream",
     "text": [
      "Test: \n",
      " Accuracy: 97.2%, Avg loss: 0.087453 \n",
      "\n",
      "Epoch 2\n",
      "-------------------------------\n"
     ]
    },
    {
     "name": "stderr",
     "output_type": "stream",
     "text": [
      "[ERROR] CORE(1105,ffffa14f20b0,python):2024-01-30-16:46:56.366.841 [mindspore/core/utils/file_utils.cc:253] GetRealPath] Get realpath failed, path[/tmp/ipykernel_1105/1666263637.py]\n",
      "[ERROR] CORE(1105,ffffa14f20b0,python):2024-01-30-16:46:56.366.905 [mindspore/core/utils/file_utils.cc:253] GetRealPath] Get realpath failed, path[/tmp/ipykernel_1105/1666263637.py]\n",
      "[ERROR] CORE(1105,ffffa14f20b0,python):2024-01-30-16:46:56.366.939 [mindspore/core/utils/file_utils.cc:253] GetRealPath] Get realpath failed, path[/tmp/ipykernel_1105/1666263637.py]\n"
     ]
    },
    {
     "name": "stdout",
     "output_type": "stream",
     "text": [
      "loss: 0.021515  [  0/1875]\n",
      "loss: 0.082550  [100/1875]\n",
      "loss: 0.004569  [200/1875]\n",
      "loss: 0.078512  [300/1875]\n",
      "loss: 0.039061  [400/1875]\n",
      "loss: 0.178090  [500/1875]\n",
      "loss: 0.004801  [600/1875]\n",
      "loss: 0.071658  [700/1875]\n",
      "loss: 0.070092  [800/1875]\n",
      "loss: 0.044352  [900/1875]\n",
      "loss: 0.115743  [1000/1875]\n",
      "loss: 0.016467  [1100/1875]\n",
      "loss: 0.002156  [1200/1875]\n",
      "loss: 0.011646  [1300/1875]\n",
      "loss: 0.257773  [1400/1875]\n",
      "loss: 0.056542  [1500/1875]\n",
      "loss: 0.016057  [1600/1875]\n",
      "loss: 0.009355  [1700/1875]\n",
      "loss: 0.001214  [1800/1875]\n",
      "Test: \n",
      " Accuracy: 97.8%, Avg loss: 0.071778 \n",
      "\n",
      "Epoch 3\n",
      "-------------------------------\n"
     ]
    },
    {
     "name": "stderr",
     "output_type": "stream",
     "text": [
      "[ERROR] CORE(1105,ffffa14f20b0,python):2024-01-30-16:47:11.481.105 [mindspore/core/utils/file_utils.cc:253] GetRealPath] Get realpath failed, path[/tmp/ipykernel_1105/1666263637.py]\n",
      "[ERROR] CORE(1105,ffffa14f20b0,python):2024-01-30-16:47:11.481.195 [mindspore/core/utils/file_utils.cc:253] GetRealPath] Get realpath failed, path[/tmp/ipykernel_1105/1666263637.py]\n",
      "[ERROR] CORE(1105,ffffa14f20b0,python):2024-01-30-16:47:11.481.285 [mindspore/core/utils/file_utils.cc:253] GetRealPath] Get realpath failed, path[/tmp/ipykernel_1105/1666263637.py]\n"
     ]
    },
    {
     "name": "stdout",
     "output_type": "stream",
     "text": [
      "loss: 0.113496  [  0/1875]\n",
      "loss: 0.247717  [100/1875]\n",
      "loss: 0.007751  [200/1875]\n",
      "loss: 0.003013  [300/1875]\n",
      "loss: 0.075562  [400/1875]\n",
      "loss: 0.036046  [500/1875]\n",
      "loss: 0.137267  [600/1875]\n",
      "loss: 0.002596  [700/1875]\n",
      "loss: 0.180306  [800/1875]\n",
      "loss: 0.132890  [900/1875]\n",
      "loss: 0.018508  [1000/1875]\n",
      "loss: 0.089158  [1100/1875]\n",
      "loss: 0.125247  [1200/1875]\n",
      "loss: 0.010648  [1300/1875]\n",
      "loss: 0.034867  [1400/1875]\n",
      "loss: 0.037562  [1500/1875]\n",
      "loss: 0.002460  [1600/1875]\n",
      "loss: 0.019139  [1700/1875]\n",
      "loss: 0.019144  [1800/1875]\n",
      "Test: \n",
      " Accuracy: 98.7%, Avg loss: 0.041604 \n",
      "\n",
      "Done!\n"
     ]
    }
   ],
   "source": [
    "# 对LeNet5进行实例化\n",
    "network = LeNet5()\n",
    "\n",
    "# 定义损失函数\n",
    "net_loss = nn.SoftmaxCrossEntropyWithLogits(sparse=True, reduction='mean')\n",
    "# 定义优化器，通过model.trainable_params()方法获得模型的可训练参数，并传入学习率超参来初始化优化器\n",
    "net_opt = nn.Momentum(network.trainable_params(), learning_rate=0.01, momentum=0.9)\n",
    "\n",
    "# 定义用于训练的train_loop函数。\n",
    "def train_loop(model, dataset, loss_fn, optimizer):\n",
    "    # 定义正向计算函数\n",
    "    def forward_fn(data, label):\n",
    "        logits = model(data)\n",
    "        loss = loss_fn(logits, label)\n",
    "        return loss\n",
    "\n",
    "    # 定义微分函数，使用mindspore.value_and_grad获得微分函数grad_fn,输出loss和梯度。\n",
    "    # 由于是对模型参数求导,grad_position 配置为None，传入可训练参数。\n",
    "    grad_fn = ms.value_and_grad(forward_fn, None, optimizer.parameters)\n",
    "\n",
    "    # 定义 one-step training函数\n",
    "    def train_step(data, label):\n",
    "        loss, grads = grad_fn(data, label)\n",
    "        optimizer(grads)\n",
    "        return loss\n",
    "\n",
    "    size = dataset.get_dataset_size()\n",
    "    model.set_train()\n",
    "    for batch, (data, label) in enumerate(dataset.create_tuple_iterator()):\n",
    "        loss = train_step(data, label)\n",
    "\n",
    "        if batch % 100 == 0:\n",
    "            loss, current = loss.asnumpy(), batch\n",
    "            print(f\"loss: {loss:>7f}  [{current:>3d}/{size:>3d}]\")\n",
    "\n",
    "# 定义用于测试的test_loop函数。\n",
    "def test_loop(model, dataset, loss_fn):\n",
    "    num_batches = dataset.get_dataset_size()\n",
    "    model.set_train(False)\n",
    "    total, test_loss, correct = 0, 0, 0\n",
    "    for data, label in dataset.create_tuple_iterator():\n",
    "        pred = model(data)\n",
    "        total += len(data)\n",
    "        test_loss += loss_fn(pred, label).asnumpy()\n",
    "        correct += (pred.argmax(1) == label).asnumpy().sum()\n",
    "    test_loss /= num_batches\n",
    "    correct /= total\n",
    "    print(f\"Test: \\n Accuracy: {(100*correct):>0.1f}%, Avg loss: {test_loss:>8f} \\n\")\n",
    "\n",
    "epochs = 3\n",
    "for t in range(epochs):\n",
    "    print(f\"Epoch {t+1}\\n-------------------------------\")\n",
    "    train_loop(network, dataset_train, net_loss, net_opt)\n",
    "    ms.save_checkpoint(network, \"./save_direct.ckpt\")\n",
    "    test_loop(network, dataset_eval, net_loss)\n",
    "print(\"Done!\")"
   ]
  },
  {
   "cell_type": "code",
   "execution_count": 11,
   "id": "f68e3d94-6b4d-4458-879d-6df0a484df3c",
   "metadata": {},
   "outputs": [
    {
     "data": {
      "image/png": "[encoded data removed]",
      "text/plain": [
       "<Figure size 640x480 with 8 Axes>"
      ]
     },
     "metadata": {},
     "output_type": "display_data"
    }
   ],
   "source": [
    "# 将模型参数存入parameter的字典中，采用load_checkpoint接口加载模型参数\n",
    "param_dict = ms.load_checkpoint(\"./save_direct.ckpt\")\n",
    "# 重新定义一个LeNet5神经网络\n",
    "net = network\n",
    "# 将参数加载到网络中\n",
    "ms.load_param_into_net(net, param_dict)\n",
    "model = Model(net)\n",
    "data_test = dataset_eval.create_dict_iterator()\n",
    "data = next(data_test)\n",
    "images = data[\"image\"].asnumpy()\n",
    "labels = data[\"label\"].asnumpy()\n",
    "\n",
    "# 使用函数model.predict预测image对应分类\n",
    "output = model.predict(ms.Tensor(data['image']))\n",
    "pred = np.argmax(output.asnumpy(), axis=1)\n",
    "\n",
    "plt.figure()\n",
    "for i in range(1, 9):\n",
    "    plt.subplot(2, 4, i)\n",
    "    plt.imshow(images[i-1].squeeze(), cmap=\"gray\")\n",
    "    plt.title(pred[i-1])\n",
    "plt.show()"
   ]
  },
  {
   "cell_type": "code",
   "execution_count": null,
   "id": "1e66b69d-37ff-46b3-a12a-541253130874",
   "metadata": {},
   "outputs": [],
   "source": []
  }
 ],
 "metadata": {
  "kernelspec": {
   "display_name": "MindSpore",
   "language": "python",
   "name": "mindspore"
  },
  "language_info": {
   "codemirror_mode": {
    "name": "ipython",
    "version": 3
   },
   "file_extension": ".py",
   "mimetype": "text/x-python",
   "name": "python",
   "nbconvert_exporter": "python",
   "pygments_lexer": "ipython3",
   "version": "3.7.10"
  }
 },
 "nbformat": 4,
 "nbformat_minor": 5
}
